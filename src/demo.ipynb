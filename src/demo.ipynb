{
 "cells": [
  {
   "cell_type": "markdown",
   "metadata": {},
   "source": [
    "# Demo execution to compare different versions of the code\n",
    "\n",
    "- Pure Python Version: [`solution.py`](./solution.py)\n",
    "- Pure Python Version with compilation: [`solution_cython.pyx`](./solution_cython.pyx)\n",
    "- Python Code optimised by addition of C Types: [`solution_cython_typing_with_c_types.pyx`](./solution_cython_typing_with_c_types.pyx)\n",
    "- Python code optimised by addition of C Types and Numpy array with memoryview: [`solution_cython_typing_with_c_types_numpy_memory_view.pyx`](./solution_cython_typing_with_c_types_numpy_memory_view.pyx)"
   ]
  },
  {
   "cell_type": "code",
   "execution_count": 72,
   "metadata": {},
   "outputs": [],
   "source": [
    "list_elements_count = 500\n",
    "data_list = list(range(list_elements_count))"
   ]
  },
  {
   "cell_type": "markdown",
   "metadata": {},
   "source": [
    "## Pure Python Execution"
   ]
  },
  {
   "cell_type": "code",
   "execution_count": 73,
   "metadata": {},
   "outputs": [],
   "source": [
    "import solution"
   ]
  },
  {
   "cell_type": "code",
   "execution_count": 74,
   "metadata": {},
   "outputs": [
    {
     "name": "stdout",
     "output_type": "stream",
     "text": [
      "50.7 µs ± 3.92 µs per loop (mean ± std. dev. of 5 runs, 20000 loops each)\n"
     ]
    }
   ],
   "source": [
    "%%timeit -n 20000 -r 5\n",
    "solution.count_increases(\n",
    "    data_list,\n",
    ")"
   ]
  },
  {
   "cell_type": "code",
   "execution_count": 75,
   "metadata": {},
   "outputs": [
    {
     "data": {
      "text/plain": [
       "499"
      ]
     },
     "execution_count": 75,
     "metadata": {},
     "output_type": "execute_result"
    }
   ],
   "source": [
    "solution.count_increases(\n",
    "    data_list,\n",
    ")"
   ]
  },
  {
   "cell_type": "markdown",
   "metadata": {},
   "source": [
    "## Python Code with compilation"
   ]
  },
  {
   "cell_type": "code",
   "execution_count": 76,
   "metadata": {},
   "outputs": [
    {
     "name": "stdout",
     "output_type": "stream",
     "text": [
      "Compiling solution_cython.pyx because it changed.\n",
      "[1/1] Cythonizing solution_cython.pyx\n",
      "running build_ext\n",
      "building 'solution_cython' extension\n",
      "creating build\n",
      "creating build/temp.linux-x86_64-3.7\n",
      "gcc -pthread -B /home/kartikey/anaconda3/compiler_compat -Wl,--sysroot=/ -Wsign-compare -DNDEBUG -g -fwrapv -O3 -Wall -Wstrict-prototypes -fPIC -I/home/kartikey/tests/projects/cython_test/testenv/include -I/home/kartikey/anaconda3/include/python3.7m -c solution_cython.c -o build/temp.linux-x86_64-3.7/solution_cython.o\n",
      "gcc -pthread -shared -B /home/kartikey/anaconda3/compiler_compat -L/home/kartikey/anaconda3/lib -Wl,-rpath=/home/kartikey/anaconda3/lib -Wl,--no-as-needed -Wl,--sysroot=/ build/temp.linux-x86_64-3.7/solution_cython.o -o /home/kartikey/tests/projects/cython_test/src/solution_cython.cpython-37m-x86_64-linux-gnu.so\n",
      "/home/kartikey/anaconda3/compiler_compat/ld: warning: /usr/lib/gcc/x86_64-linux-gnu/10/../../../x86_64-linux-gnu/libpthread.so: unsupported GNU_PROPERTY_TYPE (5) type: 0xc0008002\n",
      "/home/kartikey/anaconda3/compiler_compat/ld: warning: /lib/x86_64-linux-gnu/libc.so.6: unsupported GNU_PROPERTY_TYPE (5) type: 0xc0008002\n"
     ]
    }
   ],
   "source": [
    "! python setup_solution_cython.py build_ext --inplace"
   ]
  },
  {
   "cell_type": "code",
   "execution_count": 77,
   "metadata": {},
   "outputs": [],
   "source": [
    "import solution_cython"
   ]
  },
  {
   "cell_type": "code",
   "execution_count": 78,
   "metadata": {},
   "outputs": [
    {
     "name": "stdout",
     "output_type": "stream",
     "text": [
      "24 µs ± 3.95 µs per loop (mean ± std. dev. of 5 runs, 20000 loops each)\n"
     ]
    }
   ],
   "source": [
    "%%timeit -n 20000 -r 5\n",
    "solution_cython.count_increases_cy(\n",
    "    data_list,\n",
    ")\n"
   ]
  },
  {
   "cell_type": "code",
   "execution_count": 79,
   "metadata": {},
   "outputs": [
    {
     "data": {
      "text/plain": [
       "499"
      ]
     },
     "execution_count": 79,
     "metadata": {},
     "output_type": "execute_result"
    }
   ],
   "source": [
    "solution_cython.count_increases_cy(\n",
    "    data_list,\n",
    ")"
   ]
  },
  {
   "cell_type": "markdown",
   "metadata": {},
   "source": [
    "## Python code optimised for Cython by Typing with C Types"
   ]
  },
  {
   "cell_type": "code",
   "execution_count": 80,
   "metadata": {},
   "outputs": [
    {
     "name": "stdout",
     "output_type": "stream",
     "text": [
      "Compiling solution_cython_typing_with_c_types.pyx because it changed.\n",
      "[1/1] Cythonizing solution_cython_typing_with_c_types.pyx\n",
      "running build_ext\n",
      "building 'solution_cython_typing_with_c_types' extension\n",
      "gcc -pthread -B /home/kartikey/anaconda3/compiler_compat -Wl,--sysroot=/ -Wsign-compare -DNDEBUG -g -fwrapv -O3 -Wall -Wstrict-prototypes -fPIC -I/home/kartikey/tests/projects/cython_test/testenv/include -I/home/kartikey/anaconda3/include/python3.7m -c solution_cython_typing_with_c_types.c -o build/temp.linux-x86_64-3.7/solution_cython_typing_with_c_types.o\n",
      "gcc -pthread -shared -B /home/kartikey/anaconda3/compiler_compat -L/home/kartikey/anaconda3/lib -Wl,-rpath=/home/kartikey/anaconda3/lib -Wl,--no-as-needed -Wl,--sysroot=/ build/temp.linux-x86_64-3.7/solution_cython_typing_with_c_types.o -o /home/kartikey/tests/projects/cython_test/src/solution_cython_typing_with_c_types.cpython-37m-x86_64-linux-gnu.so\n",
      "/home/kartikey/anaconda3/compiler_compat/ld: warning: /usr/lib/gcc/x86_64-linux-gnu/10/../../../x86_64-linux-gnu/libpthread.so: unsupported GNU_PROPERTY_TYPE (5) type: 0xc0008002\n",
      "/home/kartikey/anaconda3/compiler_compat/ld: warning: /lib/x86_64-linux-gnu/libc.so.6: unsupported GNU_PROPERTY_TYPE (5) type: 0xc0008002\n"
     ]
    }
   ],
   "source": [
    "! python setup_solution_cython_typing_with_c_types.py build_ext --inplace"
   ]
  },
  {
   "cell_type": "code",
   "execution_count": 81,
   "metadata": {},
   "outputs": [],
   "source": [
    "import solution_cython_typing_with_c_types"
   ]
  },
  {
   "cell_type": "code",
   "execution_count": 82,
   "metadata": {},
   "outputs": [
    {
     "name": "stdout",
     "output_type": "stream",
     "text": [
      "6.37 µs ± 400 ns per loop (mean ± std. dev. of 5 runs, 20000 loops each)\n"
     ]
    }
   ],
   "source": [
    "%%timeit -n 20000 -r 5\n",
    "solution_cython_typing_with_c_types.count_increases_cy_c_types(\n",
    "    data_list\n",
    ")"
   ]
  },
  {
   "cell_type": "code",
   "execution_count": 83,
   "metadata": {},
   "outputs": [
    {
     "data": {
      "text/plain": [
       "499"
      ]
     },
     "execution_count": 83,
     "metadata": {},
     "output_type": "execute_result"
    }
   ],
   "source": [
    "solution_cython_typing_with_c_types.count_increases_cy_c_types(\n",
    "    data_list\n",
    ")"
   ]
  },
  {
   "cell_type": "markdown",
   "metadata": {},
   "source": [
    "## Python code optimised for Cython by Typing with C Types and Numpy array with memoryview"
   ]
  },
  {
   "cell_type": "code",
   "execution_count": 84,
   "metadata": {},
   "outputs": [
    {
     "name": "stdout",
     "output_type": "stream",
     "text": [
      "Compiling solution_cython_typing_with_c_types_numpy_memory_view.pyx because it changed.\n",
      "[1/1] Cythonizing solution_cython_typing_with_c_types_numpy_memory_view.pyx\n",
      "running build_ext\n",
      "building 'solution_cython_typing_with_c_types_numpy_memory_view' extension\n",
      "gcc -pthread -B /home/kartikey/anaconda3/compiler_compat -Wl,--sysroot=/ -Wsign-compare -DNDEBUG -g -fwrapv -O3 -Wall -Wstrict-prototypes -fPIC -I/home/kartikey/tests/projects/cython_test/testenv/lib/python3.7/site-packages/numpy/core/include -I/home/kartikey/tests/projects/cython_test/testenv/include -I/home/kartikey/anaconda3/include/python3.7m -c solution_cython_typing_with_c_types_numpy_memory_view.c -o build/temp.linux-x86_64-3.7/solution_cython_typing_with_c_types_numpy_memory_view.o\n",
      "gcc -pthread -shared -B /home/kartikey/anaconda3/compiler_compat -L/home/kartikey/anaconda3/lib -Wl,-rpath=/home/kartikey/anaconda3/lib -Wl,--no-as-needed -Wl,--sysroot=/ build/temp.linux-x86_64-3.7/solution_cython_typing_with_c_types_numpy_memory_view.o -o /home/kartikey/tests/projects/cython_test/src/solution_cython_typing_with_c_types_numpy_memory_view.cpython-37m-x86_64-linux-gnu.so\n",
      "/home/kartikey/anaconda3/compiler_compat/ld: warning: /usr/lib/gcc/x86_64-linux-gnu/10/../../../x86_64-linux-gnu/libpthread.so: unsupported GNU_PROPERTY_TYPE (5) type: 0xc0008002\n",
      "/home/kartikey/anaconda3/compiler_compat/ld: warning: /lib/x86_64-linux-gnu/libc.so.6: unsupported GNU_PROPERTY_TYPE (5) type: 0xc0008002\n"
     ]
    }
   ],
   "source": [
    "! python setup_solution_cython_typing_with_c_types_numpy_memory_view.py build_ext --inplace"
   ]
  },
  {
   "cell_type": "code",
   "execution_count": 85,
   "metadata": {},
   "outputs": [],
   "source": [
    "import numpy as np\n",
    "\n",
    "import solution_cython_typing_with_c_types_numpy_memory_view\n"
   ]
  },
  {
   "cell_type": "code",
   "execution_count": 86,
   "metadata": {},
   "outputs": [
    {
     "name": "stdout",
     "output_type": "stream",
     "text": [
      "38.2 µs ± 4.37 µs per loop (mean ± std. dev. of 5 runs, 20000 loops each)\n"
     ]
    }
   ],
   "source": [
    "%%timeit -n 20000 -r 5\n",
    "\n",
    "data_np_array = np.asarray(\n",
    "    data_list,\n",
    "    dtype='int32'\n",
    ")\n"
   ]
  },
  {
   "cell_type": "code",
   "execution_count": 87,
   "metadata": {},
   "outputs": [
    {
     "name": "stdout",
     "output_type": "stream",
     "text": [
      "56.6 µs ± 12.5 µs per loop (mean ± std. dev. of 5 runs, 20000 loops each)\n"
     ]
    }
   ],
   "source": [
    "%%timeit -n 20000 -r 5\n",
    "\n",
    "data_np_array = np.asarray(\n",
    "    list(range(list_elements_count)),\n",
    "    dtype='int32'\n",
    ")\n"
   ]
  },
  {
   "cell_type": "code",
   "execution_count": 88,
   "metadata": {},
   "outputs": [],
   "source": [
    "data_np_array = np.asarray(\n",
    "    data_list,\n",
    "    dtype='int32'\n",
    ")\n"
   ]
  },
  {
   "cell_type": "code",
   "execution_count": 89,
   "metadata": {},
   "outputs": [
    {
     "data": {
      "text/plain": [
       "dtype('int32')"
      ]
     },
     "execution_count": 89,
     "metadata": {},
     "output_type": "execute_result"
    }
   ],
   "source": [
    "data_np_array.dtype"
   ]
  },
  {
   "cell_type": "code",
   "execution_count": 90,
   "metadata": {},
   "outputs": [
    {
     "name": "stdout",
     "output_type": "stream",
     "text": [
      "1.64 µs ± 180 ns per loop (mean ± std. dev. of 5 runs, 20000 loops each)\n"
     ]
    }
   ],
   "source": [
    "%%timeit -n 20000 -r 5\n",
    "\n",
    "# When data is already loaded in the memory\n",
    "solution_cython_typing_with_c_types_numpy_memory_view.count_increases_cy_c_types_np_array(\n",
    "    data_np_array\n",
    ")"
   ]
  },
  {
   "cell_type": "code",
   "execution_count": 91,
   "metadata": {},
   "outputs": [
    {
     "name": "stdout",
     "output_type": "stream",
     "text": [
      "35.6 µs ± 3.33 µs per loop (mean ± std. dev. of 5 runs, 20000 loops each)\n"
     ]
    }
   ],
   "source": [
    "%%timeit -n 20000 -r 5\n",
    "\n",
    "# When array is created from the list of the data\n",
    "data_np_array = np.asarray(\n",
    "    data_list,\n",
    "    dtype='int32'\n",
    ")\n",
    "\n",
    "\n",
    "solution_cython_typing_with_c_types_numpy_memory_view.count_increases_cy_c_types_np_array(\n",
    "    data_np_array\n",
    ")"
   ]
  },
  {
   "cell_type": "code",
   "execution_count": 92,
   "metadata": {},
   "outputs": [
    {
     "data": {
      "text/plain": [
       "499"
      ]
     },
     "execution_count": 92,
     "metadata": {},
     "output_type": "execute_result"
    }
   ],
   "source": [
    "solution_cython_typing_with_c_types_numpy_memory_view.count_increases_cy_c_types_np_array(\n",
    "    data_np_array\n",
    ")"
   ]
  },
  {
   "cell_type": "code",
   "execution_count": null,
   "metadata": {},
   "outputs": [],
   "source": []
  }
 ],
 "metadata": {
  "interpreter": {
   "hash": "37b09183f84e7b8837ca58ff3e2baad94e49793ce4e5e71742ad7afca1262c66"
  },
  "kernelspec": {
   "display_name": "Python 3.7.3 ('testenv': venv)",
   "language": "python",
   "name": "python3"
  },
  "language_info": {
   "codemirror_mode": {
    "name": "ipython",
    "version": 3
   },
   "file_extension": ".py",
   "mimetype": "text/x-python",
   "name": "python",
   "nbconvert_exporter": "python",
   "pygments_lexer": "ipython3",
   "version": "3.7.3"
  },
  "orig_nbformat": 4
 },
 "nbformat": 4,
 "nbformat_minor": 2
}
